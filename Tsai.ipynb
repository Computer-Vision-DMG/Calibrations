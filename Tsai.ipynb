{
 "cells": [
  {
   "cell_type": "markdown",
   "id": "f36398be-0af2-4abd-a62a-6bc815e8fe54",
   "metadata": {},
   "source": [
    "# TSAI Calibration method\n",
    "\n",
    "This method was proposed in 1987 by Tsai and consists of measuring the 3D position of 𝒏 ≥ 𝟔 control\n",
    "points on a 3D calibration target and the 2D coordinates of their projection in the image\n",
    "The idea of the DLT is to rewrite the perspective projection equation as a homogeneous linear equation and\n",
    "solve it by standard methods. Let’s write the perspective equation for a generic 3D-2D point correspondence"
   ]
  },
  {
   "cell_type": "markdown",
   "id": "f29b14ab-a839-4fc2-867d-98dd7e1d3af2",
   "metadata": {},
   "source": [
    "$ \\lambda\n",
    "\\begin{bmatrix}\n",
    " u\\\\\n",
    " v\\\\\n",
    " 1\n",
    "\\end{bmatrix}\n",
    "=\n",
    "K \\begin{bmatrix} R | T\n",
    "\\end{bmatrix}\\cdot \n",
    " \\begin{bmatrix}\n",
    " X_{W}\\\\\n",
    " Y_{W}\\\\\n",
    " Z_{W}\\\\\n",
    "1\n",
    "\\end{bmatrix}$"
   ]
  },
  {
   "cell_type": "markdown",
   "id": "b6fd5c38-4c7b-4f9c-b6e3-720042bbcc1b",
   "metadata": {},
   "source": [
    "$ \n",
    "\\lambda\n",
    "\\begin{bmatrix}\n",
    " u\\\\\n",
    " v\\\\\n",
    " 1\n",
    "\\end{bmatrix}\n",
    "=\n",
    "\\begin{bmatrix}\n",
    " \\alpha_{u} &  0 &  u_{0}\\\\\n",
    " 0 & \\alpha_{v} &   v_{}\\\\\n",
    " 0 & 0  & 1 \\\\\n",
    "\\end{bmatrix}\n",
    "\\cdot \n",
    "\\begin{bmatrix}\n",
    " r_{11} & r_{12} & r_{13} & t_{1} \\\\\n",
    " r_{21} & r_{22} & r_{32} & t_{2} \\\\\n",
    " r_{31} & r_{32} & r_{33} & t_{3} \\\\\n",
    "\\end{bmatrix}\n",
    "\\cdot\n",
    " \\begin{bmatrix}\n",
    " X_{W}\\\\\n",
    " Y_{W}\\\\\n",
    " Z_{W}\\\\\n",
    " 1\n",
    "\\end{bmatrix} $"
   ]
  },
  {
   "cell_type": "markdown",
   "id": "5b89b831-6f0e-4425-8af8-91c7230972f9",
   "metadata": {},
   "source": [
    "$ \n",
    "\\lambda\n",
    "\\begin{bmatrix}\n",
    " u\\\\\n",
    " v\\\\\n",
    " 1\n",
    "\\end{bmatrix}\n",
    "=\n",
    "\\begin{bmatrix}\n",
    " \\alpha_{u}r_{11} + u_{0}r_{31} & \\alpha_{u}r_{12} + u_{0}r_{32} & \\alpha_{u}r_{13} + u_{0}r_{33} & \\alpha_{u}t_{1} + u_{0}t_{3} \\\\\n",
    " \\alpha_{v}r_{21} + v_{0}r_{31} & \\alpha_{v}r_{22} + v_{0}r_{32} & \\alpha_{v}r_{23} + v_{0}r_{33} & \\alpha_{v}t_{2} + v_{0}t_{3} \\\\\n",
    " r_{31} & r_{32} & r_{33} & t_{3} \\\\\n",
    "\\end{bmatrix}\n",
    "\\cdot\n",
    " \\begin{bmatrix}\n",
    " X_{W}\\\\\n",
    " Y_{W}\\\\\n",
    " Z_{W}\\\\\n",
    " 1\n",
    "\\end{bmatrix} \n",
    "$\n",
    "\n",
    " "
   ]
  },
  {
   "cell_type": "markdown",
   "id": "0eb53b0f-e89c-44d4-94ab-d7620568718f",
   "metadata": {},
   "source": [
    "$ \n",
    "\\lambda\n",
    "\\begin{bmatrix}\n",
    " u\\\\\n",
    " v\\\\\n",
    " 1\n",
    "\\end{bmatrix}\n",
    "=\n",
    "\\begin{bmatrix}\n",
    " m_{11} & m_{12} & m_{13} & m_{14} \\\\\n",
    " m_{21} & m_{22} & m_{23} & m_{24} \\\\\n",
    " m_{31} & m_{32} & m_{33} & m_{34} \\\\\n",
    "\\end{bmatrix}\n",
    "\\cdot\n",
    " \\begin{bmatrix}\n",
    " X_{W}\\\\\n",
    " Y_{W}\\\\\n",
    " Z_{W}\\\\\n",
    " 1\n",
    "\\end{bmatrix} \n",
    "$\n"
   ]
  },
  {
   "cell_type": "markdown",
   "id": "308ee9e8-db0f-45b2-96d4-9f3b6fde5bef",
   "metadata": {},
   "source": [
    "$\\begin{equation}\\lambda \\begin{bmatrix} u \\\\ v \\\\ 1 \\end{bmatrix} = \\underbrace{\\begin{bmatrix} m^T_1 \\\\ m^T_2 \\\\ m^T_3  \\end{bmatrix}}_{M} \\cdot \\underbrace{\\begin{bmatrix} X_W \\\\ Y_W \\\\ Z_W \\\\ 1\\end{bmatrix}}_{P}\\end{equation}$\n",
    "\n",
    "$\\begin{equation}\\begin{split}u ={\\lambda u \\over \\lambda} = {m^T_1 \\cdot P \\over m^T_3 \\cdot P} \\\\ v={\\lambda v \\over\\lambda} = {m^T_2 \\cdot P \\over m^T_3 \\cdot P}\\end{split} \\end{equation}$\n",
    "\n",
    "$\\begin{equation}\\begin{split} \\big(m^T_1 - u_im^T_3 \\big) \\cdot P = 0 \\\\ \\big(m^T_2 - v_im^T_3 \\big) \\cdot P = 0\\end{split} \\space \\Rightarrow \\begin{pmatrix}\n",
    "   P^T_1 & 0^T & -u_1P^T_1\\\\\n",
    "   0^T & P^T_1 & -v_1P^T_1\n",
    "\\end{pmatrix} \\begin{pmatrix}m_1 \\\\ m_2 \\\\ m_3 \\end{pmatrix} = \\begin{pmatrix}0 \\\\ 0\\end{pmatrix}\\end{equation}$\n",
    "\n",
    "$\\begin{split} \\big(m^T_1 - u_im^T_3 \\big) \\cdot P = 0 \\\\ \\big(m^T_2 - u_im^T_3 \\big) \\cdot P = 0\\end{split} \\space \\Rightarrow \\underbrace{\\begin{pmatrix}\n",
    "   P^T_1 & 0^T & -u_1P^T_1\\\\\n",
    "   0^T & P^T_1 & -v_1P^T_1 \\\\ & \\dots \\\\P^T_n & 0^T & -u_nP^T_n\\\\\n",
    "   0^T & P^T_n & -v_nP^T_n \n",
    "\\end{pmatrix}}_{Q\\space\\textbf{known}} \\underbrace{\\begin{pmatrix}m_{11} \\\\ m_{12}\\\\ m_{13} \\\\ m_{14} \\\\m_{21} \\\\ m_{22} \\\\ m_{23} \\\\ m_{24} \\\\ m_{31} \\\\ m_{32} \\\\ m_{33} \\\\ m_{34} \\\\ m_{41} \\\\ m_{42} \\\\ m_{43} \\\\ m_{44}\\end{pmatrix}}_{M\\space\\textbf{unknown}} = \\begin{pmatrix}0 \\\\ 0\\end{pmatrix}$\n",
    "\n",
    "$\\begin{equation}\\textbf{Q} \\cdot \\textbf{M} =0\\end{equation}$\n"
   ]
  },
  {
   "cell_type": "markdown",
   "id": "c5e09d0e-e3cf-4f4a-8c25-570182866a98",
   "metadata": {},
   "source": [
    "**Minimal solution**\n",
    "\n",
    "- $Q_{2n×12}$ should have rank 11 to a unique (up to scale) *non-zero* solution $M$\n",
    "- because each correspondence  provides equations, then $5+{1 \\over 2}$ points correspondence are needed → **6 points**\n",
    "\n",
    "**Over-determined solution**\n",
    "\n",
    "- For $n>6$ points, one possible solution is the **Least Square solution**, which minimizes the sum  of squared residuals, $\\begin{Vmatrix}QM\\end{Vmatrix}^2$, subject to the constraint $\\begin{Vmatrix}M\\end{Vmatrix}^2 = 1$.\n",
    "- It can be solved using the SVD. The solution is the  **eigenvector** corresponding to the **smallest eigenvalue** of the matrix $Q^TQ$ (because it is the unit vector x that minimizes $\\begin{Vmatrix}Qx\\end{Vmatrix}^2= x^TQ^TQx$).\n",
    "- Matlab function:\n",
    "    - [U,S,V] = SVD(Q);\n",
    "    - M = V(: , 12);\n",
    "\n",
    "**Degenerate configurations**\n",
    "\n",
    "- Points lying on a plane and/or along a single line passing through the center of projection\n",
    "- Points lying on a plane and/or along a single line passing through the center of projection\n",
    "Once we have determined M, we can recover the intrinsic and extrinsic parameters by remembering that:"
   ]
  },
  {
   "cell_type": "markdown",
   "id": "186f2efd-28ea-4930-ba14-f6b01efdece3",
   "metadata": {},
   "source": [
    "$M = K(R | T)$\n",
    "\n",
    "$\\begin{bmatrix}m_{11} & m_{12} & m_{13} & m_{14} \\\\ m_{21} & m_{22} & m_{23} & m_{24} \\\\ m_{31} & m_{32} & m_{33} & m_{34}\\end{bmatrix} = \\begin{bmatrix} \\alpha_u & 0 & u_0 \\\\ 0 & \\alpha_v & v_0 \\\\0 & 0 & 1\\end{bmatrix} \\cdot \\begin{bmatrix}r_{11} & r_{12} & r_{13} & t_{1} \\\\ r_{21} & r_{22} & r_{23} & t_{2} \\\\ r_{31} & r_{32} & r_{33} & t_{3}\\end{bmatrix}$\n",
    "\n",
    "$\\begin{bmatrix}m_{11} & m_{12} & m_{13} & m_{14} \\\\ m_{21} & m_{22} & m_{23} & m_{24} \\\\ m_{31} & m_{32} & m_{33} & m_{34}\\end{bmatrix} = \\begin{bmatrix}\\alpha_ur_{11} + u_0r_{31} & \\alpha_ur_{12} + u_0r_{32} & \\alpha_ur_{13} + u_0r_{33} & \\alpha_ut_{1} + u_0t_{3} \\\\ \\alpha_vr_{21} + v_0r_{31}& \\alpha_vr_{22} + v_0r_{32}& \\alpha_vr_{23} + v_0r_{33} & \\alpha_vt_{2} + v_0t_{3}\\\\ r_{31} & r_{32} & r_{33} &  t_{3}\\end{bmatrix}$"
   ]
  },
  {
   "cell_type": "markdown",
   "id": "7ebed13b-89c8-485e-a818-295d3f575b0e",
   "metadata": {},
   "source": [
    "- However, notice that we are not enforcing the constraint that $\\textbf{R}$ is orthogonal, i.e., $\\textbf{R} \\cdot  \\textbf{R}^T = \\textbf{I}$\n",
    "- we can use the so-called **QR factorization** of $M$, which decomposes  $M$ into a $R$ (orthogonal), $T$, and an upper triangular matrix (i.e., $K$)"
   ]
  },
  {
   "cell_type": "code",
   "execution_count": null,
   "id": "57fed880-2757-4c0d-8dc5-f90524c33056",
   "metadata": {},
   "outputs": [],
   "source": []
  }
 ],
 "metadata": {
  "kernelspec": {
   "display_name": "Python 3 (ipykernel)",
   "language": "python",
   "name": "python3"
  },
  "language_info": {
   "codemirror_mode": {
    "name": "ipython",
    "version": 3
   },
   "file_extension": ".py",
   "mimetype": "text/x-python",
   "name": "python",
   "nbconvert_exporter": "python",
   "pygments_lexer": "ipython3",
   "version": "3.12.3"
  }
 },
 "nbformat": 4,
 "nbformat_minor": 5
}
