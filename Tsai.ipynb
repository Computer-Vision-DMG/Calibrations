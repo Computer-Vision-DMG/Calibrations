{
 "cells": [
  {
   "cell_type": "markdown",
   "id": "f36398be-0af2-4abd-a62a-6bc815e8fe54",
   "metadata": {},
   "source": [
    "# TSAI Calibration method\n",
    "\n",
    "This method was proposed in 1987 by Tsai and consists of measuring the 3D position of 𝒏 ≥ 𝟔 control points on a 3D calibration target and the 2D coordinates of their projection in the image.\n",
    "\n",
    "The idea of the DLT is to rewrite the Perspective Projection Equation as a homogeneous linear equation and solve it by standard methods. "
   ]
  },
  {
   "cell_type": "markdown",
   "id": "219f56bf-47ef-429d-987f-f941336a7682",
   "metadata": {},
   "source": [
    "## 1. Prerequisites\n",
    "\n",
    "The following text assumes familiarity with the camera model, which is represented in homogeneous coordinates by the following equation."
   ]
  },
  {
   "cell_type": "markdown",
   "id": "1c646845-9c91-4d3e-b00d-b8f61d91d25c",
   "metadata": {},
   "source": [
    "$\\lambda \n",
    "\\underbrace{\\begin{bmatrix} u\\\\ v\\\\ 1 \\end{bmatrix}}_{\\bar{x}} = \n",
    "\\underbrace{K \\begin{bmatrix} R | T \\end{bmatrix}}_{M} \\cdot \n",
    "\\underbrace{\\begin{bmatrix} X_{W}\\\\ Y_{W}\\\\ Z_{W}\\\\ 1 \\end{bmatrix}}_{\\bar{X}}$"
   ]
  },
  {
   "cell_type": "markdown",
   "id": "13a0b559-f5b2-4a16-84d0-3ef331951f90",
   "metadata": {},
   "source": [
    "In this equation, the following components can be identified:\n",
    "\n",
    "- $\\lambda$: The scale factor. It is necessary to determine the depth of 3D points given the pixel coordinates (2D points).\n",
    "- $\\bar{x}$: The homogeneous pixel coordinates, which identify the rows ($u$) and columns ($v$) of every 2D point in the image coordinate system (where the third value is 1).\n",
    "- $K$: The 3×3 matrix of intrinsic parameters, whose values are determined by the camera's physical properties.\n",
    "- $[R | t]$: The 3×4 composite matrix of extrinsic parameters, where $R$ is a 3×3 rotation matrix and $t$ is a 3×1 translation vector.\n",
    "- $M$: The perspective projection matrix (PPM).\n",
    "- $\\bar{X}$: The 4×1 vector of homogeneous world coordinates, representing the $(X, Y, Z)$ coordinates of the 3D points (where the fourth value is 1)."
   ]
  },
  {
   "cell_type": "markdown",
   "id": "8ea2ddfc-ede3-4164-b07e-49871e784edc",
   "metadata": {
    "scrolled": true
   },
   "source": [
    "## 2. Assumptions and Topic's Target\n",
    "\n",
    "This problem assumes that 2D and 3D coordinates are known, while $\\lambda$ and the PPM aren't.\n",
    "\n",
    "Therefore, the goal of the calibration process is to retrieve the '*correct*' PPM for the 2D-3D correspondence (i.e., solving the system of equations for the PPM).\n",
    "\n",
    "The PPM estimation aims to determine the camera's intrinsic and extrinsic parameters. If only the extrinsic parameters are retrieved, the process is referred to as *camera localization*.\n",
    "\n",
    "This method, also known as the Direct Linear Transform (DLT) algorithm, may encounter degenerate configurations caused by the arrangement of the 3D points.\n",
    "\n",
    "Such degeneracy occurs when the 3D points:\n",
    "\n",
    "- Lie on a plane and/or along a single line passing through the center of projection.\n",
    "- Lie on a twisted cubic.\n",
    "\n"
   ]
  },
  {
   "cell_type": "markdown",
   "id": "3f9772e5-bd60-4ced-b7f1-7090de4ec8b1",
   "metadata": {},
   "source": [
    "## 3. **Theory**\n",
    "\n",
    "The goal is to isolate the unknown term and solve the system of equations for the given sets of known variables (i.e., the 2D-3D point correspondences).\n",
    "In this case, the unknown term is the PPM (also referred to as M), which is composed of the intrinsic and extrinsic parameters.\n",
    "\n",
    "Starting from the equation of the camera model expressed in homogeneous coordinates, we denote M as the matrix of intrinsic and extrinsic parameters (also referred to as the perspective projection matrix)."
   ]
  },
  {
   "cell_type": "markdown",
   "id": "32dd23af-7369-4202-bb43-ce4f7e855fa7",
   "metadata": {},
   "source": [
    "$ \n",
    "\\begin{equation}\n",
    "\\begin{split}\n",
    "\\lambda\n",
    "\\begin{bmatrix}\n",
    " u\\\\\n",
    " v\\\\\n",
    " 1\n",
    "\\end{bmatrix}\n",
    "&=\n",
    "\\underbrace{\\begin{bmatrix}\n",
    " \\alpha_{u} &  0 &  u_{0}\\\\\n",
    " 0 & \\alpha_{v} &   v_{}\\\\\n",
    " 0 & 0  & 1 \\\\\n",
    "\\end{bmatrix}}_{K}\n",
    "\\cdot \n",
    "\\underbrace{\\begin{bmatrix}\n",
    " r_{11} & r_{12} & r_{13} & t_{1} \\\\\n",
    " r_{21} & r_{22} & r_{32} & t_{2} \\\\\n",
    " r_{31} & r_{32} & r_{33} & t_{3} \\\\\n",
    "\\end{bmatrix}}_{[R|T]}\n",
    "\\cdot\n",
    " \\begin{bmatrix}\n",
    " X_{W}\\\\\n",
    " Y_{W}\\\\\n",
    " Z_{W}\\\\\n",
    " 1\n",
    "\\end{bmatrix} \n",
    "\\\\\n",
    "\\lambda\n",
    "\\begin{bmatrix}\n",
    " u\\\\\n",
    " v\\\\\n",
    " 1\n",
    "\\end{bmatrix}\n",
    "&=\n",
    "\\underbrace{\\begin{bmatrix}\n",
    " m_{11} & m_{12} & m_{13} & m_{14} \\\\\n",
    " m_{21} & m_{22} & m_{23} & m_{24} \\\\\n",
    " m_{31} & m_{32} & m_{33} & m_{34} \\\\\n",
    "\\end{bmatrix}}_{PPM = M}\n",
    "\\cdot\n",
    " \\begin{bmatrix}\n",
    " X_{W}\\\\\n",
    " Y_{W}\\\\\n",
    " Z_{W}\\\\\n",
    " 1\n",
    "\\end{bmatrix} \n",
    "\\end{split}\n",
    "\\end{equation}$"
   ]
  },
  {
   "cell_type": "markdown",
   "id": "efc25869-5e5e-4a31-abb8-bc2bbf926dfa",
   "metadata": {},
   "source": [
    "By following the next steps, the problem can be reformulated into a form that is easier to solve:\n",
    "1. Re-write $M$, highlighting its three rows, $m_{1}^{T}$, $m_{1}^{T}$ and $m_{1}^{T}$.\n",
    "2. Divide the third row of the system of equations (i.e., $\\lambda = m_{3}^{T} \\cdot P$) by the first two rows (i.e., $\\lambda u = m_{1}^{T} \\cdot P$ and $\\lambda v = m_{2}^{T} \\cdot P$).\n",
    "3. Rearrange the terms of the two equations to isolate each individual value $m_{i}$ of the matrix $M$ from the rest. (Note: The scale factor $\\lambda$ no longer plays a role after the second step.)"
   ]
  },
  {
   "cell_type": "markdown",
   "id": "619a1a23-a9db-4803-b9d5-d70bb628e087",
   "metadata": {},
   "source": [
    "$\\begin{equation}\n",
    "\\begin{split}\n",
    "\\lambda \n",
    "\\begin{bmatrix} u \\\\ v \\\\ 1 \\end{bmatrix} = \n",
    "\\underbrace{\\begin{bmatrix} m^T_1 \\\\ m^T_2 \\\\ m^T_3  \\end{bmatrix}}_{M} \\cdot \\underbrace{\\begin{bmatrix} X_W \\\\ Y_W \\\\ Z_W \\\\ 1\\end{bmatrix}}_{P} \n",
    "& \\Rightarrow\n",
    "\\begin{split}u ={\\lambda u \\over \\lambda} = {m^T_1 \\cdot P \\over m^T_3 \\cdot P} \\\\ v={\\lambda v \\over\\lambda} = {m^T_2 \\cdot P \\over m^T_3 \\cdot P}\\end{split}\n",
    "\\\\\n",
    "& \\Rightarrow\n",
    "\\begin{split} \n",
    "\\big(m^T_1 - u_im^T_3 \\big) \\cdot P = 0 \\\\ \\big(m^T_2 - v_im^T_3 \\big) \\cdot P = 0\\end{split} \n",
    "\\\\ \n",
    "& \\Rightarrow \n",
    "\\begin{pmatrix}\n",
    "   P^T_1 & 0^T & -u_1P^T_1\\\\\n",
    "   0^T & P^T_1 & -v_1P^T_1\n",
    "\\end{pmatrix} \\begin{pmatrix}m_1 \\\\ m_2 \\\\ m_3 \\end{pmatrix} = \\begin{pmatrix}0 \\\\ \\vdots \\\\ 0\\end{pmatrix} \n",
    "\\end{split}\n",
    "\\end{equation}$"
   ]
  },
  {
   "cell_type": "markdown",
   "id": "c5ed9630-46d1-4ff1-995e-4868e53d6769",
   "metadata": {},
   "source": [
    "The result is a pair of equations obtained from a single 2D-3D point correspondence.\n",
    "\n",
    "This system has 12 unknown variables. Therefore, to obtain a solution, we need at least six 2D-3D point correspondences.\n",
    "\n",
    "By stacking the following matrices on top of one another, each obtained from a single point correspondence, \n",
    "$\n",
    "\\begin{pmatrix}\n",
    "   P^{T}_{i} & 0^{T} & -u_{i}P^{T}_{i}\\\\\n",
    "   0^{T} & P^{T}_{i} & -v_{i}P^{T}_{i}\n",
    "\\end{pmatrix}\n",
    "$\n",
    "\n",
    "we arrive at the following matrix equation:"
   ]
  },
  {
   "cell_type": "markdown",
   "id": "f3b71ac1-9441-45e9-98ed-e6173ed03817",
   "metadata": {},
   "source": [
    "$\n",
    "\\underbrace{\\begin{pmatrix}\n",
    "   P^T_1 & 0^T & -u_1P^T_1\\\\\n",
    "   0^T & P^T_1 & -v_1P^T_1 \\\\ & \\dots \\\\P^T_n & 0^T & -u_nP^T_n\\\\\n",
    "   0^T & P^T_n & -v_nP^T_n \n",
    "\\end{pmatrix}}_{Q\\space\\textbf{known}} \\underbrace{\\begin{pmatrix}m_{11} \\\\ m_{12}\\\\ m_{13} \\\\ m_{14} \\\\m_{21} \\\\ m_{22} \\\\ m_{23} \\\\ m_{24} \\\\ m_{31} \\\\ m_{32} \\\\ m_{33} \\\\ m_{34} \\\\ m_{41} \\\\ m_{42} \\\\ m_{43} \\\\ m_{44}\\end{pmatrix}}_{M\\space\\textbf{unknown}} = \\begin{pmatrix}0 \\\\ \\vdots \\\\ 0\\end{pmatrix}\n",
    "$\n"
   ]
  },
  {
   "cell_type": "markdown",
   "id": "c5e09d0e-e3cf-4f4a-8c25-570182866a98",
   "metadata": {},
   "source": [
    "[reference_coming_soon]()\n",
    "\n",
    "**Minimal solution**\n",
    "\n",
    "- $Q_{2n×12}$ should have rank 11 to a unique (up to scale) *non-zero* solution $M$\n",
    "- because each correspondence  provides equations, then $5+{1 \\over 2}$ points correspondence are needed → **6 points**\n",
    "\n",
    "**Over-determined solution**\n",
    "\n",
    "- For $n>6$ points, one possible solution is the **Least Square solution**, which minimizes the sum  of squared residuals, $\\begin{Vmatrix}QM\\end{Vmatrix}^2$, subject to the constraint $\\begin{Vmatrix}M\\end{Vmatrix}^2 = 1$.\n",
    "- It can be solved using the SVD. The solution is the  **eigenvector** corresponding to the **smallest eigenvalue** of the matrix $Q^TQ$ (because it is the unit vector x that minimizes $\\begin{Vmatrix}Qx\\end{Vmatrix}^2= x^TQ^TQx$).\n",
    "- Matlab function:\n",
    "    - [U,S,V] = SVD(Q);\n",
    "    - M = V(: , 12);\n",
    "- Python function (using Numpy):\n",
    "    - U, S, V_h = np.linalg.svd(Q)\n",
    "    - M = np.reshape(V_h[-1, :], (3, 4))\n",
    "\n",
    "  \n",
    "Finally, to retrieve the intrinsic and extrinsic parameters, we recall that they are stored in the matrix $M$ as follows:"
   ]
  },
  {
   "cell_type": "markdown",
   "id": "186f2efd-28ea-4930-ba14-f6b01efdece3",
   "metadata": {},
   "source": [
    "$M = K(R | T)$\n",
    "\n",
    "$\\begin{bmatrix}m_{11} & m_{12} & m_{13} & m_{14} \\\\ m_{21} & m_{22} & m_{23} & m_{24} \\\\ m_{31} & m_{32} & m_{33} & m_{34}\\end{bmatrix} = \\begin{bmatrix} \\alpha_u & 0 & u_0 \\\\ 0 & \\alpha_v & v_0 \\\\0 & 0 & 1\\end{bmatrix} \\cdot \\begin{bmatrix}r_{11} & r_{12} & r_{13} & t_{1} \\\\ r_{21} & r_{22} & r_{23} & t_{2} \\\\ r_{31} & r_{32} & r_{33} & t_{3}\\end{bmatrix}$\n",
    "\n",
    "$\\begin{bmatrix}m_{11} & m_{12} & m_{13} & m_{14} \\\\ m_{21} & m_{22} & m_{23} & m_{24} \\\\ m_{31} & m_{32} & m_{33} & m_{34}\\end{bmatrix} = \\begin{bmatrix}\\alpha_ur_{11} + u_0r_{31} & \\alpha_ur_{12} + u_0r_{32} & \\alpha_ur_{13} + u_0r_{33} & \\alpha_ut_{1} + u_0t_{3} \\\\ \\alpha_vr_{21} + v_0r_{31}& \\alpha_vr_{22} + v_0r_{32}& \\alpha_vr_{23} + v_0r_{33} & \\alpha_vt_{2} + v_0t_{3}\\\\ r_{31} & r_{32} & r_{33} &  t_{3}\\end{bmatrix}$"
   ]
  },
  {
   "cell_type": "markdown",
   "id": "7ebed13b-89c8-485e-a818-295d3f575b0e",
   "metadata": {},
   "source": [
    "However, notice that we are not enforcing the constraint that $\\textbf{R}$ is orthogonal, i.e., $\\textbf{R} \\cdot  \\textbf{R}^T = \\textbf{I}$\n",
    "\n",
    "we can use the so-called **QR factorization** of $M$, which decomposes  $M$ into a $R$ (orthogonal), $T$, and an upper triangular matrix (i.e., $K$)"
   ]
  },
  {
   "cell_type": "markdown",
   "id": "6c8ad91f-faeb-4c07-834e-dccffff7eb97",
   "metadata": {},
   "source": [
    "## COMING SOON!!\n",
    "4. **Code**: The Python implementation (and later, C++) of our solution.\n",
    "5. **Test**: A final test to prove that the example works as expected according to our calculations.\n"
   ]
  },
  {
   "cell_type": "code",
   "execution_count": null,
   "id": "3c0d1955-541f-42f0-b60a-a391b780f444",
   "metadata": {},
   "outputs": [],
   "source": []
  }
 ],
 "metadata": {
  "kernelspec": {
   "display_name": "Python 3 (ipykernel)",
   "language": "python",
   "name": "python3"
  },
  "language_info": {
   "codemirror_mode": {
    "name": "ipython",
    "version": 3
   },
   "file_extension": ".py",
   "mimetype": "text/x-python",
   "name": "python",
   "nbconvert_exporter": "python",
   "pygments_lexer": "ipython3",
   "version": "3.12.3"
  }
 },
 "nbformat": 4,
 "nbformat_minor": 5
}
